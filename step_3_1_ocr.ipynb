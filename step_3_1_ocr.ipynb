{
 "cells": [
  {
   "cell_type": "code",
   "execution_count": 1,
   "metadata": {},
   "outputs": [
    {
     "name": "stdout",
     "output_type": "stream",
     "text": [
      "Python 3.7.2 (default, Dec 29 2018, 00:00:04) \n",
      "[Clang 4.0.1 (tags/RELEASE_401/final)] on darwin\n",
      "numpy: 1.15.4\n"
     ]
    }
   ],
   "source": [
    "import sys; print('Python %s on %s' % (sys.version, sys.platform))\n",
    "\n",
    "import numpy as np; print('numpy:', np.__version__)\n",
    "\n",
    "import os\n",
    "import json\n",
    "import requests\n",
    "\n",
    "from tqdm import tqdm\n",
    "from glob import iglob\n",
    "from cnocr import CnOcr"
   ]
  },
  {
   "cell_type": "code",
   "execution_count": 2,
   "metadata": {},
   "outputs": [],
   "source": [
    "TRAIN_IMG_PATH = './preprocess/train/'\n",
    "VAL_IMG_PATH = './preprocess/val/'\n",
    "TEST_IMG_PATH = './preprocess/test/'\n",
    "\n",
    "LEONARDO_APIKEY = 'jGMB8R9KPK2MhNv7Tc9vTVGQ1mu7KLB0'\n",
    "LEONARDO_OCR_APIURL = 'https://sandbox.api.sap.com/mlfs/api/v2/image/ocr'"
   ]
  },
  {
   "cell_type": "raw",
   "metadata": {},
   "source": [
    "[2019/5/10, 15:56:56] Du, Martin: https://github.com/breezedeus/cnocr/blob/master/README_cn.md\n",
    "[2019/5/10, 15:58:05] Du, Martin: https://github.com/YCG09/chinese_ocr\n",
    "[2019/5/10, 16:00:38] Du, Martin: https://github.com/chineseocr/chineseocr"
   ]
  },
  {
   "cell_type": "code",
   "execution_count": 3,
   "metadata": {},
   "outputs": [],
   "source": [
    "headers = {\n",
    "    'APIKey': LEONARDO_APIKEY,\n",
    "    'Accept': 'application/json'\n",
    "}\n",
    "\n",
    "\n",
    "def optical_character_recognition(fp, options={\"lang\": \"zh-Hans, en\"}):\n",
    "    resp = requests.post(LEONARDO_OCR_APIURL, \n",
    "                         files={'files': open(fp, 'rb')}, \n",
    "                         data={'options': json.dumps(options)}, \n",
    "                         headers=headers)\n",
    "    if resp.status_code == 200:\n",
    "        return json.loads(resp.text)\n",
    "    else:\n",
    "        print('ocr exception:', resp.status_code, resp.text)\n",
    "        return []"
   ]
  },
  {
   "cell_type": "markdown",
   "metadata": {},
   "source": [
    "# VALSET"
   ]
  },
  {
   "cell_type": "code",
   "execution_count": 6,
   "metadata": {},
   "outputs": [
    {
     "name": "stdout",
     "output_type": "stream",
     "text": [
      "sf id: 1608.06993\n"
     ]
    },
    {
     "ename": "NameError",
     "evalue": "name 'time' is not defined",
     "output_type": "error",
     "traceback": [
      "\u001b[0;31m---------------------------------------------------------------------------\u001b[0m",
      "\u001b[0;31mNameError\u001b[0m                                 Traceback (most recent call last)",
      "\u001b[0;32m<ipython-input-6-e4178ca80002>\u001b[0m in \u001b[0;36m<module>\u001b[0;34m\u001b[0m\n\u001b[1;32m      5\u001b[0m             \u001b[0mprint\u001b[0m\u001b[0;34m(\u001b[0m\u001b[0;34m'sf id:'\u001b[0m\u001b[0;34m,\u001b[0m \u001b[0msf_id\u001b[0m\u001b[0;34m)\u001b[0m\u001b[0;34m\u001b[0m\u001b[0;34m\u001b[0m\u001b[0m\n\u001b[0;32m----> 6\u001b[0;31m             \u001b[0musername\u001b[0m \u001b[0;34m=\u001b[0m \u001b[0mget_sf_employee_id\u001b[0m\u001b[0;34m(\u001b[0m\u001b[0msf_user_info_url\u001b[0m\u001b[0;34m,\u001b[0m \u001b[0msf_id\u001b[0m\u001b[0;34m)\u001b[0m\u001b[0;34m\u001b[0m\u001b[0;34m\u001b[0m\u001b[0m\n\u001b[0m\u001b[1;32m      7\u001b[0m             \u001b[0mprint\u001b[0m\u001b[0;34m(\u001b[0m\u001b[0;34m'sf username:'\u001b[0m\u001b[0;34m,\u001b[0m \u001b[0musername\u001b[0m\u001b[0;34m)\u001b[0m\u001b[0;34m\u001b[0m\u001b[0;34m\u001b[0m\u001b[0m\n",
      "\u001b[0;31mNameError\u001b[0m: name 'get_sf_employee_id' is not defined",
      "\nDuring handling of the above exception, another exception occurred:\n",
      "\u001b[0;31mNameError\u001b[0m                                 Traceback (most recent call last)",
      "\u001b[0;32m<ipython-input-6-e4178ca80002>\u001b[0m in \u001b[0;36m<module>\u001b[0;34m\u001b[0m\n\u001b[1;32m     11\u001b[0m                 \u001b[0mos\u001b[0m\u001b[0;34m.\u001b[0m\u001b[0mrename\u001b[0m\u001b[0;34m(\u001b[0m\u001b[0;34mf\"{sf_avatar_path}{sf_id}.jpg\"\u001b[0m\u001b[0;34m,\u001b[0m \u001b[0;34mf\"{sf_avatar_path_disable}{sf_id}.jpg\"\u001b[0m\u001b[0;34m)\u001b[0m\u001b[0;34m\u001b[0m\u001b[0;34m\u001b[0m\u001b[0m\n\u001b[1;32m     12\u001b[0m         \u001b[0;32mexcept\u001b[0m\u001b[0;34m:\u001b[0m\u001b[0;34m\u001b[0m\u001b[0;34m\u001b[0m\u001b[0m\n\u001b[0;32m---> 13\u001b[0;31m             \u001b[0mtime\u001b[0m\u001b[0;34m.\u001b[0m\u001b[0msleep\u001b[0m\u001b[0;34m(\u001b[0m\u001b[0;36m60\u001b[0m\u001b[0;34m)\u001b[0m\u001b[0;34m\u001b[0m\u001b[0;34m\u001b[0m\u001b[0m\n\u001b[0m\u001b[1;32m     14\u001b[0m             \u001b[0;32mcontinue\u001b[0m\u001b[0;34m\u001b[0m\u001b[0;34m\u001b[0m\u001b[0m\n",
      "\u001b[0;31mNameError\u001b[0m: name 'time' is not defined"
     ]
    }
   ],
   "source": [
    "ocr = CnOcr()\n",
    "d_ocr = dict()\n",
    "count_file = 0\n",
    "\n",
    "for fp in iglob(VAL_IMG_PATH+'**', recursive=True):\n",
    "    if os.path.isfile(fp):\n",
    "        try:\n",
    "            print(fp)\n",
    "            count_file += 1\n",
    "            # txt=optical_character_recognition(fp)     \n",
    "            res = ocr.ocr(fp)\n",
    "            \n",
    "            if len(res) > 0:\n",
    "                d_ocr[fp.split('/')[-1]]=res\n",
    "                with open(OUTPUT_FILE_PATH+'val_ocr.json', 'w', encoding='utf-8') as f:\n",
    "                    json.dump(d_ocr, f)\n",
    "                \n",
    "                print(len(d_ocr), '/', count_file, res)            \n",
    "        except:\n",
    "            time.sleep(10)\n",
    "            continue"
   ]
  },
  {
   "cell_type": "code",
   "execution_count": 2,
   "metadata": {},
   "outputs": [
    {
     "data": {
      "text/plain": [
       "36028797018963968"
      ]
     },
     "execution_count": 2,
     "metadata": {},
     "output_type": "execute_result"
    }
   ],
   "source": [
    "2**55"
   ]
  },
  {
   "cell_type": "code",
   "execution_count": null,
   "metadata": {},
   "outputs": [],
   "source": []
  }
 ],
 "metadata": {
  "kernelspec": {
   "display_name": "Python 3",
   "language": "python",
   "name": "python3"
  },
  "language_info": {
   "codemirror_mode": {
    "name": "ipython",
    "version": 3
   },
   "file_extension": ".py",
   "mimetype": "text/x-python",
   "name": "python",
   "nbconvert_exporter": "python",
   "pygments_lexer": "ipython3",
   "version": "3.5.2"
  }
 },
 "nbformat": 4,
 "nbformat_minor": 2
}
