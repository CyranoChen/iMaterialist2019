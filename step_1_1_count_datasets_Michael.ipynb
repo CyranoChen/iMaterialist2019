{
 "cells": [
  {
   "cell_type": "code",
   "execution_count": 1,
   "metadata": {},
   "outputs": [],
   "source": [
    "import os\n",
    "import json\n",
    "\n",
    "class CountDatasets:\n",
    "    def __init__(self,\n",
    "                file_type,\n",
    "                dataset_path,\n",
    "                json_file_path,\n",
    "                save_path):\n",
    "        self._file_type = file_type\n",
    "        self._dataset_path = dataset_path\n",
    "        self._json_file_path = json_file_path\n",
    "        self._save_path = save_path\n",
    "        self.lost_json = {}\n",
    "        self._get_dataset_list()\n",
    "        self._get_json_file()\n",
    "    \n",
    "    def _get_dataset_list(self):\n",
    "        self.dataset_list = os.listdir(os.path.join(self._dataset_path, self._file_type))\n",
    "\n",
    "    def _get_json_file(self):\n",
    "        filename = os.path.join(self._json_file_path, '%s.json' % self._file_type)\n",
    "        with open(filename) as f:\n",
    "            json_file = json.load(f)\n",
    "            print(\"<%s> is loaded.\" % filename)\n",
    "        self.json_file = json_file\n",
    "    \n",
    "    def find_lost(self):\n",
    "        json_id_map={image.get(\"id\"):image for image in self.json_file.get(\"images\")}\n",
    "        \n",
    "        for image_id in self.dataset_list:\n",
    "            image = json_id_map.get(image_id.split('_')[-1],{})\n",
    "            image['count'] = 1\n",
    "            json_id_map[image_id.split('_')[-1]] = image\n",
    "        \n",
    "        lost_list = [value for value in json_id_map.values() if value.get('count') is None]\n",
    "        self.lost_json['images'] = lost_list\n",
    "        \n",
    "    \n",
    "    def get_diff(self):\n",
    "        # 查看数据的差值\n",
    "        json_file_number = len(self.json_file.get(\"images\"))\n",
    "        dataset_list_number = len(self.dataset_list)\n",
    "        print(\"Total of json file:\", json_file_number)\n",
    "        print(\"Total of dataset file:\", dataset_list_number)\n",
    "        print(\"Diff between json and download file:\", (json_file_number - dataset_list_number))\n",
    "        \n",
    "        self.find_lost()\n",
    "        print(\"Total number of lost images:\", len(self.lost_json.get('images')))\n",
    "    \n",
    "    def save_lost_file(self):\n",
    "        filename = os.path.join(self._save_path, '%s_lost.json' % self._file_type)\n",
    "        with open(filename, 'w') as f:\n",
    "            json.dump(self.lost_json, f)\n",
    "            print(\"[ %s ] is saved.\" % filename)\n",
    "    \n",
    "    def diff_and_save(self):\n",
    "        self.get_diff()\n",
    "        self.save_lost_file()\n",
    "        "
   ]
  },
  {
   "cell_type": "code",
   "execution_count": 2,
   "metadata": {},
   "outputs": [
    {
     "name": "stdout",
     "output_type": "stream",
     "text": [
      "</tf/imaterialist-product-2019/init_files/val.json> is loaded.\n",
      "Total of json file: 10095\n",
      "Total of dataset file: 10095\n",
      "Diff between json and download file: 0\n",
      "Total number of lost images: 0\n",
      "[ /tf/imaterialist-product-2019/preprocess/val_lost.json ] is saved.\n"
     ]
    }
   ],
   "source": [
    "val_dataset = CountDatasets(file_type = 'val',\n",
    "                        dataset_path = '/tf/imaterialist-product-2019/datasets',\n",
    "                        json_file_path = '/tf/imaterialist-product-2019/init_files',\n",
    "                        save_path = '/tf/imaterialist-product-2019/preprocess')\n",
    "val_dataset.get_diff()\n",
    "val_dataset.save_lost_file()"
   ]
  },
  {
   "cell_type": "code",
   "execution_count": 3,
   "metadata": {},
   "outputs": [
    {
     "name": "stdout",
     "output_type": "stream",
     "text": [
      "</tf/imaterialist-product-2019/init_files/train.json> is loaded.\n",
      "Total of json file: 1011532\n",
      "Total of dataset file: 1008641\n",
      "Diff between json and download file: 2891\n",
      "Total number of lost images: 2891\n",
      "[ /tf/imaterialist-product-2019/preprocess/train_lost.json ] is saved.\n"
     ]
    }
   ],
   "source": [
    "train_dataset = CountDatasets(file_type = 'train',\n",
    "                        dataset_path = '/tf/imaterialist-product-2019/datasets',\n",
    "                        json_file_path = '/tf/imaterialist-product-2019/init_files',\n",
    "                        save_path = '/tf/imaterialist-product-2019/preprocess')\n",
    "train_dataset.get_diff()\n",
    "train_dataset.save_lost_file()"
   ]
  },
  {
   "cell_type": "code",
   "execution_count": 4,
   "metadata": {},
   "outputs": [
    {
     "name": "stdout",
     "output_type": "stream",
     "text": [
      "</tf/imaterialist-product-2019/init_files/test.json> is loaded.\n",
      "Total of json file: 90834\n",
      "Total of dataset file: 90833\n",
      "Diff between json and download file: 1\n",
      "Total number of lost images: 1\n",
      "[ /tf/imaterialist-product-2019/preprocess/test_lost.json ] is saved.\n"
     ]
    }
   ],
   "source": [
    "test_dataset = CountDatasets(file_type = 'test',\n",
    "                        dataset_path = '/tf/imaterialist-product-2019/datasets',\n",
    "                        json_file_path = '/tf/imaterialist-product-2019/init_files',\n",
    "                        save_path = '/tf/imaterialist-product-2019/preprocess')\n",
    "test_dataset.get_diff()\n",
    "test_dataset.save_lost_file()"
   ]
  },
  {
   "cell_type": "code",
   "execution_count": null,
   "metadata": {},
   "outputs": [],
   "source": []
  }
 ],
 "metadata": {
  "kernelspec": {
   "display_name": "Python 3",
   "language": "python",
   "name": "python3"
  },
  "language_info": {
   "codemirror_mode": {
    "name": "ipython",
    "version": 3
   },
   "file_extension": ".py",
   "mimetype": "text/x-python",
   "name": "python",
   "nbconvert_exporter": "python",
   "pygments_lexer": "ipython3",
   "version": "3.5.2"
  }
 },
 "nbformat": 4,
 "nbformat_minor": 2
}
