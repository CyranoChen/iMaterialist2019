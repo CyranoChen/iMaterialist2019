{
 "cells": [
  {
   "cell_type": "code",
   "execution_count": 2,
   "metadata": {},
   "outputs": [],
   "source": [
    "import json\n",
    "import os\n",
    "\n",
    "class KaggleFile:\n",
    "    def __init__(self,\n",
    "                file_type,\n",
    "                json_file_path,\n",
    "                save_path):\n",
    "        self._file_type = file_type.lower()\n",
    "        self._json_file_path = json_file_path\n",
    "        self.save_path = save_path\n",
    "        self._file_name = os.path.join(json_file_path, \"%s.json\" % self._file_type)\n",
    "        self.load_file()\n",
    "    \n",
    "    def load_file(self):\n",
    "        with open(self._file_name) as f:\n",
    "            self._json_file = json.load(f)\n",
    "            print(\"[ %s ] is loaded.\" % self._file_name)\n",
    "    \n",
    "    def get_info(self):\n",
    "        print(\"Attributes of [ %s ]:\" % self._file_type)\n",
    "        print('>>\\t', self._json_file.keys())\n",
    "        print(\"Total images of [ %s ]:\" % self._file_type)\n",
    "        print('>>\\t', len(self._json_file.get(\"images\")))\n",
    "    \n",
    "    def make_class_id_map(self):\n",
    "        self._class_id_map = {}\n",
    "        images_list = self._json_file.get(\"images\")\n",
    "        for image in images_list:\n",
    "            image_id = image.get(\"id\")\n",
    "            image_class = image.get(\"class\")\n",
    "            \n",
    "            result = self._class_id_map.get(image_class, [])\n",
    "            result.append(image_id)\n",
    "            self._class_id_map[image_class] = result\n",
    "    \n",
    "    def save_class_id_map(self):\n",
    "        filename = os.path.join(self.save_path, \"%s_class_id.json\" % self._file_type)\n",
    "        with open(filename, \"w\") as f:\n",
    "            json.dump(self._class_id_map, f)\n",
    "            print(\"[ %s ] is saved\" % filename)\n",
    "    \n",
    "    def make_id_class_map(self):\n",
    "        self._id_class_map = {}\n",
    "        images_list = self._json_file.get(\"images\")\n",
    "        for image in images_list:\n",
    "            image_id = image.get(\"id\")\n",
    "            image_class = image.get(\"class\")\n",
    "            self._id_class_map[image_id] = image_class\n",
    "            \n",
    "    def save_id_class_map(self):\n",
    "        filename = os.path.join(self.save_path, \"%s_id_class.json\" % self._file_type)\n",
    "        with open(filename, \"w\") as f:\n",
    "            json.dump(self._id_class_map, f)\n",
    "            print(\"[ %s ] is saved\" % filename)\n",
    "    \n",
    "    def save_both_file(self):\n",
    "        self.make_class_id_map()\n",
    "        self.save_class_id_map()\n",
    "        self.make_id_class_map()\n",
    "        self.save_id_class_map()\n",
    "        "
   ]
  },
  {
   "cell_type": "code",
   "execution_count": 3,
   "metadata": {},
   "outputs": [
    {
     "name": "stdout",
     "output_type": "stream",
     "text": [
      "[ /tf/imaterialist-product-2019/init_files/val.json ] is loaded.\n"
     ]
    }
   ],
   "source": [
    "val_file = KaggleFile(file_type = 'val',\n",
    "                json_file_path = '/tf/imaterialist-product-2019/init_files',\n",
    "                save_path = '/tf/imaterialist-product-2019/preprocess')\n",
    "# al_file.save_both_file()"
   ]
  },
  {
   "cell_type": "code",
   "execution_count": 4,
   "metadata": {},
   "outputs": [
    {
     "name": "stdout",
     "output_type": "stream",
     "text": [
      "[ /tf/imaterialist-product-2019/init_files/train.json ] is loaded.\n"
     ]
    }
   ],
   "source": [
    "train_file = KaggleFile(file_type = 'train',\n",
    "                json_file_path = '/tf/imaterialist-product-2019/init_files',\n",
    "                save_path = '/tf/imaterialist-product-2019/preprocess')\n",
    "# train_file.save_both_file()"
   ]
  },
  {
   "cell_type": "code",
   "execution_count": 5,
   "metadata": {},
   "outputs": [
    {
     "name": "stdout",
     "output_type": "stream",
     "text": [
      "Attributes of [ val ]:\n",
      ">>\t dict_keys(['images'])\n",
      "Total images of [ val ]:\n",
      ">>\t 10095\n"
     ]
    }
   ],
   "source": [
    "val_file.get_info()"
   ]
  },
  {
   "cell_type": "code",
   "execution_count": 6,
   "metadata": {},
   "outputs": [
    {
     "name": "stdout",
     "output_type": "stream",
     "text": [
      "Attributes of [ train ]:\n",
      ">>\t dict_keys(['images'])\n",
      "Total images of [ train ]:\n",
      ">>\t 1011532\n"
     ]
    }
   ],
   "source": [
    "train_file.get_info()"
   ]
  },
  {
   "cell_type": "code",
   "execution_count": 7,
   "metadata": {},
   "outputs": [
    {
     "name": "stdout",
     "output_type": "stream",
     "text": [
      "[ /tf/imaterialist-product-2019/init_files/test.json ] is loaded.\n",
      "Attributes of [ test ]:\n",
      ">>\t dict_keys(['images'])\n",
      "Total images of [ test ]:\n",
      ">>\t 90834\n"
     ]
    }
   ],
   "source": [
    "test_file = KaggleFile(file_type = 'test',\n",
    "                json_file_path = '/tf/imaterialist-product-2019/init_files',\n",
    "                save_path = '/tf/imaterialist-product-2019/preprocess')\n",
    "test_file.get_info()"
   ]
  },
  {
   "cell_type": "code",
   "execution_count": null,
   "metadata": {},
   "outputs": [],
   "source": []
  }
 ],
 "metadata": {
  "kernelspec": {
   "display_name": "Python 3",
   "language": "python",
   "name": "python3"
  },
  "language_info": {
   "codemirror_mode": {
    "name": "ipython",
    "version": 3
   },
   "file_extension": ".py",
   "mimetype": "text/x-python",
   "name": "python",
   "nbconvert_exporter": "python",
   "pygments_lexer": "ipython3",
   "version": "3.5.2"
  }
 },
 "nbformat": 4,
 "nbformat_minor": 2
}
